{
 "cells": [
  {
   "cell_type": "code",
   "execution_count": 180,
   "metadata": {},
   "outputs": [
    {
     "name": "stdout",
     "output_type": "stream",
     "text": [
      "['Afghanistan' '0.0014' '0.1973' '9.4341' '0' '24.8097' '0.2099' '0.035'\n",
      " '5.3495' '1.202' '7.5828' '0.0728' '0.2057' '0.07' '0.2953' '0.0574'\n",
      " '0.8802' '0.3078' '1.3489' '0' '0.077' '0.5345' '6.7642' '40.5645' '4.5'\n",
      " '29.8']\n"
     ]
    }
   ],
   "source": [
    "import numpy as np\n",
    "import csv\n",
    "\n",
    "init_data = []\n",
    "result_data = []\n",
    "file_path = \"D:\\\\2021-autumn\\\\visualization\\\\project\\\\kg.csv\"\n",
    "csv_reader=csv.reader(open(file_path,encoding='utf-8'))\n",
    "for row in csv_reader: \n",
    "    init_data.append(row)\n",
    "    result_data.append(row)\n",
    "\n",
    "init_data = np.array(init_data)\n",
    "result_data = np.array(result_data)\n",
    "print(init_data[1])"
   ]
  },
  {
   "cell_type": "code",
   "execution_count": 181,
   "metadata": {},
   "outputs": [
    {
     "name": "stdout",
     "output_type": "stream",
     "text": [
      "['Country' 'Alcoholic Beverages' 'Animal fats' 'Animal Products'\n",
      " 'Aquatic Products, Other' 'Cereals' 'Eggs' 'Seafood' 'Fruits' 'Meat'\n",
      " 'Milk' 'Miscellaneous' 'Offals' 'Oilcrops' 'Pulses' 'Spices'\n",
      " 'Starchy Roots' 'Stimulants' 'Sugar' 'Sugar Crops' 'Treenuts'\n",
      " 'Vegetable Oils' 'Vegetables' 'Vegetal Products' 'Obesity'\n",
      " 'Undernourished']\n"
     ]
    }
   ],
   "source": [
    "print(init_data[0]) # Alcoholic Beverages"
   ]
  },
  {
   "cell_type": "code",
   "execution_count": 182,
   "metadata": {},
   "outputs": [
    {
     "name": "stdout",
     "output_type": "stream",
     "text": [
      "12\n"
     ]
    }
   ],
   "source": [
    "retain_list = ['Alcoholic Beverages', 'Animal Products','Meat', 'Cereals', 'Eggs', 'Seafood', 'Fruits', 'Milk', 'Sugar', 'Sugar Crops', 'Vegetables', 'Vegetal Products']\n",
    "print(len(retain_list))"
   ]
  },
  {
   "cell_type": "code",
   "execution_count": 183,
   "metadata": {},
   "outputs": [
    {
     "name": "stdout",
     "output_type": "stream",
     "text": [
      "{'Alcoholic Beverages': 1, 'Animal Products': 3, 'Cereals': 5, 'Eggs': 6, 'Seafood': 7, 'Fruits': 8, 'Meat': 9, 'Milk': 10, 'Sugar': 18, 'Sugar Crops': 19, 'Vegetables': 22, 'Vegetal Products': 23}\n"
     ]
    }
   ],
   "source": [
    "retain_index = {}\n",
    "for index in range(len(init_data[0])):\n",
    "    if init_data[0][index] in retain_list:\n",
    "        retain_index[init_data[0][index]] = index\n",
    "print(retain_index)"
   ]
  },
  {
   "cell_type": "code",
   "execution_count": 184,
   "metadata": {},
   "outputs": [
    {
     "name": "stdout",
     "output_type": "stream",
     "text": [
      "[10.6361 20.6529 10.7639  6.9849 22.3501 26.3875 15.8315 28.1224 24.2464\n",
      " 13.7929 17.3987  5.6117 18.3453 16.8982 20.9649 12.1746  5.1611 18.1897\n",
      " 14.2484 16.7326 23.8254 21.2556  5.864  12.8284  7.3047  3.809  20.5072\n",
      " 10.6378 16.1347 21.1886 19.4972 16.375   9.3993 22.5401  3.873  21.0055\n",
      " 13.2933 21.4903 22.5683 26.8945  7.2643 11.6831 14.7426 19.3584  8.4957\n",
      " 15.5217 25.3964 10.0035  6.0418 10.8515 30.378  26.1102 21.4383 12.5025\n",
      " 11.2551 18.1564 25.5009  3.7025 21.475  17.7865 14.3354  5.0337  7.145\n",
      " 11.6392  5.5673 17.1128 25.231  28.5969 11.6917  7.2891 10.326   8.798\n",
      " 22.5814 24.2466 23.3292 16.333  19.5793 13.1837 22.6099 13.173  11.2814\n",
      "  4.7805 16.2413 15.5983 17.3295  5.369  22.4775 10.0148  8.6204  6.1726\n",
      " 26.8389 18.6507  6.3743  4.2677 17.5446 16.2755 12.0761 18.2188 18.4187\n",
      " 13.9692 19.5088 33.9833 26.1932 10.9828  4.9413 18.4941 12.2938  6.4172\n",
      " 28.3082 17.6505 24.4198 16.2582  8.5087  2.3066 14.1322 24.8075 16.5632\n",
      " 24.0715 17.3146 15.3088 10.4178  9.9365 21.409  23.1782 19.7965 18.9786\n",
      " 20.4705  3.2623 21.8459 23.0593 18.0049 16.9623  5.3253 17.9491  6.9515\n",
      " 20.3359  6.4714 23.2937 23.0806  4.7401 17.2366 23.6838  6.4173 15.2311\n",
      " 10.4435 28.2103 26.0541 18.187   8.7584 10.2503  9.5359  5.0835 19.4898\n",
      " 11.2723 14.385  20.4378  6.5451 15.8639 15.4891 23.2979  5.5924 27.4997\n",
      " 21.6728 16.3084  9.371  18.5893 13.0147  8.5745  7.8624 10.7631]\n"
     ]
    }
   ],
   "source": [
    "#肉和畜产品合并，都变成animal product\n",
    "column_length = len(init_data[:,0])\n",
    "\n",
    "Combine_Animal_Meat = np.float64(init_data[1 : column_length ,retain_index['Animal Products']]) + np.float64(init_data[1 : column_length, retain_index['Meat']])\n",
    "print(Combine_Animal_Meat)\n",
    "init_data[1 : column_length , retain_index['Animal Products']] = Combine_Animal_Meat\n"
   ]
  },
  {
   "cell_type": "code",
   "execution_count": 185,
   "metadata": {},
   "outputs": [
    {
     "name": "stdout",
     "output_type": "stream",
     "text": [
      "[1.3489 1.5367 1.8342 1.8495 3.8749 3.0536 2.6579 2.5364 2.6094 1.5523\n",
      " 6.2151 1.1235 4.3344 4.0155 3.6514 3.9798 0.6635 2.5724 1.6391 4.7866\n",
      " 3.7866 2.3627 1.1287 2.1396 3.829  0.6479 5.0237 0.7022 1.3449 3.5582\n",
      " 3.1318 4.7798 1.3907 3.9006 0.7859 3.088  3.1617 4.2194 3.8081 2.8728\n",
      " 4.2005 3.1738 2.1332 1.737  3.8322 3.526  2.3886 3.1796 1.317  9.7259\n",
      " 1.8388 2.611  3.5524 1.3756 4.1176 3.311  2.507  1.0943 1.7744 5.448\n",
      " 5.3058 1.3368 0.7893 3.2325 2.0961 5.9591 2.5433 3.9472 1.7471 1.8481\n",
      " 2.198  3.3755 4.0147 1.7747 1.7175 4.6889 2.4335 4.7276 1.456  1.8098\n",
      " 4.1373 0.3694 2.4841 2.9439 3.2495 3.0355 2.6169 5.1366 2.2079 2.304\n",
      " 4.502  8.1121 1.6774 0.6412 3.903  3.0792 0.8811 5.2164 4.3166 3.568\n",
      " 3.2266 1.468  6.0418 2.6816 1.0649 2.8592 3.9857 3.6147 2.3446 3.1901\n",
      " 3.8297 5.7021 0.3666 0.6501 2.9104 2.2652 2.598  4.4622 4.2277 2.4084\n",
      " 1.7339 2.3774 2.4775 1.7316 2.6632 1.4126 4.6144 0.5782 6.4623 3.7043\n",
      " 3.4592 2.0847 2.5939 2.858  2.0941 2.0262 0.6323 5.5166 2.4915 0.8268\n",
      " 4.4677 1.8482 2.7209 3.8493 5.0258 2.5211 2.9737 2.6281 1.6607 4.0424\n",
      " 2.8203 1.8312 5.62   2.0832 1.7004 0.6746 1.2601 3.8811 3.6576 2.4383\n",
      " 1.0345 3.32   3.4102 0.5796 1.3645 3.4106 2.0996 5.0468 1.5632 4.6485]\n"
     ]
    }
   ],
   "source": [
    "#糖和糖类作物合并,变成Sugar\n",
    "Combine_Sugar = np.float64(init_data[1 : column_length ,retain_index['Sugar']]) + np.float64(init_data[1 : column_length, retain_index['Sugar Crops']])\n",
    "print(Combine_Sugar)\n",
    "init_data[1 : column_length , retain_index['Sugar']] = Combine_Sugar"
   ]
  },
  {
   "cell_type": "code",
   "execution_count": 186,
   "metadata": {},
   "outputs": [
    {
     "name": "stdout",
     "output_type": "stream",
     "text": [
      "[47.3287 43.0057 52.0135 47.3763 38.7728 35.0062 53.1377 33.7212 35.5436\n",
      " 48.4339 46.2878 48.4438 42.9892 46.0763 39.0798 46.0843 50.4457 41.4389\n",
      " 49.2039 39.6049 35.9607 38.9472 46.8395 46.8775 46.9267 55.926  39.4512\n",
      " 45.0156 38.633  40.2676 49.6734 40.2755 46.4229 34.3075 49.8904 45.2026\n",
      " 48.3635 41.2079 36.7233 32.0243 54.2219 45.736  41.4962 37.1503 53.9181\n",
      " 44.3732 32.6337 45.1517 46.5438 46.0724 26.9457 33.4126 39.7551 44.1983\n",
      " 42.2866 38.5629 34.1985 48.789  40.2172 41.4733 45.4237 50.5488 47.4308\n",
      " 56.0783 48.4299 39.0482 35.6432 29.7205 46.1781 47.5996 54.5908 48.6728\n",
      " 36.3752 40.1058 37.9134 44.4795 42.5445 51.3106 41.0449 42.9039 45.2431\n",
      " 59.4128 50.5159 52.2703 45.8631 57.9826 37.3703 52.438  47.2709 49.4111\n",
      " 31.3516 40.2374 46.974  51.2028 43.531  43.4388 47.1205 47.6755 38.9563\n",
      " 47.4297 39.9169 28.4372 32.1613 48.8084 48.7602 43.5532 42.7426 53.8346\n",
      " 28.9546 43.8149 39.1044 40.4164 53.3702 54.5212 52.4842 32.7064 47.3762\n",
      " 29.9399 39.6099 42.4373 46.1388 48.7386 40.3045 38.674  39.8925 43.432\n",
      " 40.2185 50.0827 40.1767 39.2133 44.0376 40.0005 46.7371 42.7062 52.5374\n",
      " 40.6417 48.8664 35.5832 36.0794 47.2715 41.9186 39.472  49.3371 45.229\n",
      " 48.5622 30.5392 32.5183 47.0622 62.0637 45.8107 47.6897 48.4924 40.7401\n",
      " 56.1404 51.212  44.3403 47.0239 46.3138 47.7156 35.6967 49.1493 34.4836\n",
      " 36.0409 50.3894 47.2912 39.389  53.374  47.4261 47.4438 44.1739]\n"
     ]
    }
   ],
   "source": [
    "#蔬菜和植物产品合并,都变成 vegetables\n",
    "Combine_Vegetables = np.float64(init_data[1 : column_length ,retain_index['Vegetables']]) + np.float64(init_data[1 : column_length, retain_index['Vegetal Products']])\n",
    "print(Combine_Vegetables)\n",
    "init_data[1 : column_length , retain_index['Vegetables']] = Combine_Vegetables"
   ]
  },
  {
   "cell_type": "code",
   "execution_count": 187,
   "metadata": {},
   "outputs": [
    {
     "name": "stdout",
     "output_type": "stream",
     "text": [
      "Animal fats\n",
      "Aquatic Products, Other\n",
      "Miscellaneous\n",
      "Offals\n",
      "Oilcrops\n",
      "Pulses\n",
      "Spices\n",
      "Starchy Roots\n",
      "Stimulants\n",
      "Treenuts\n",
      "Vegetable Oils\n"
     ]
    }
   ],
   "source": [
    "#其他合并，变成Vegetal Products，转Else\n",
    "else_index = 1\n",
    "Combine_else = np.zeros((1,column_length-1),np.float64)\n",
    "while else_index < len(init_data[0]) - 2:\n",
    "    if init_data[0][else_index] not in retain_index:\n",
    "        Combine_else += np.float64(init_data[1 : column_length , else_index])\n",
    "        print(init_data[0][else_index])\n",
    "    else_index += 1\n",
    "#print(Combine_else)\n",
    "init_data[0 , retain_index['Vegetal Products']] = 'Else'\n",
    "init_data[1:column_length , retain_index['Vegetal Products']] = Combine_else\n",
    "retain_index['Else'] = retain_index['Vegetal Products']\n"
   ]
  },
  {
   "cell_type": "code",
   "execution_count": 188,
   "metadata": {},
   "outputs": [
    {
     "name": "stdout",
     "output_type": "stream",
     "text": [
      "['Country' 'Alcoholic Beverages' 'Animal Products' 'Cereals' 'Eggs'\n",
      " 'Seafood' 'Fruits' 'Milk' 'Sugar' 'Vegetables' 'Else' 'Miscellaneous'\n",
      " 'Offals' 'Oilcrops' 'Pulses' 'Spices' 'Starchy Roots' 'Stimulants'\n",
      " 'Sugar' 'Sugar Crops' 'Treenuts' 'Vegetable Oils' 'Vegetables'\n",
      " 'Vegetal Products' 'Obesity' 'Undernourished']\n"
     ]
    }
   ],
   "source": [
    "result_index = 1\n",
    "\n",
    "retain_index.pop('Vegetal Products')\n",
    "retain_index.pop('Meat')\n",
    "retain_index.pop('Sugar Crops')\n",
    "delete_names = ['Vegetal Products' , 'Meat' , 'Sugar Crops']\n",
    "for name in retain_index:\n",
    "    result_data[:,result_index] = init_data[:,retain_index[name]]\n",
    "    result_index += 1\n",
    "print(result_data[0])\n"
   ]
  },
  {
   "cell_type": "code",
   "execution_count": 189,
   "metadata": {},
   "outputs": [
    {
     "name": "stdout",
     "output_type": "stream",
     "text": [
      "['Country' 'Alcoholic Beverages' 'Animal Products' 'Cereals' 'Eggs'\n",
      " 'Seafood' 'Fruits' 'Milk' 'Sugar' 'Vegetables' 'Else' 'Animal fats'\n",
      " 'Aquatic Products, Other' 'Miscellaneous' 'Offals' 'Oilcrops' 'Pulses'\n",
      " 'Spices' 'Starchy Roots' 'Stimulants' 'Treenuts' 'Vegetable Oils'\n",
      " 'Obesity' 'Undernourished' 'Obesity' 'Undernourished']\n"
     ]
    }
   ],
   "source": [
    "for final_index in range(len(init_data[0])):\n",
    "    if final_index == 0:\n",
    "        continue\n",
    "    else:\n",
    "        if init_data[0][final_index] not in retain_index and init_data[0][final_index] not in delete_names:\n",
    "            result_data[:,result_index] = init_data[:,final_index]\n",
    "            result_index +=1\n",
    "    final_index += 1\n",
    "print(result_data[0])"
   ]
  },
  {
   "cell_type": "code",
   "execution_count": 190,
   "metadata": {},
   "outputs": [],
   "source": [
    "import pandas as pd\n",
    "pd.DataFrame(result_data).to_csv('sample.csv')"
   ]
  }
 ],
 "metadata": {
  "interpreter": {
   "hash": "35b66630df8680c30f03dcd0612a4c2b40dca54c0f25168d39f2bd79db0e2ef8"
  },
  "kernelspec": {
   "display_name": "Python 3.8.8 64-bit ('base': conda)",
   "language": "python",
   "name": "python3"
  },
  "language_info": {
   "codemirror_mode": {
    "name": "ipython",
    "version": 3
   },
   "file_extension": ".py",
   "mimetype": "text/x-python",
   "name": "python",
   "nbconvert_exporter": "python",
   "pygments_lexer": "ipython3",
   "version": "3.8.8"
  },
  "orig_nbformat": 4
 },
 "nbformat": 4,
 "nbformat_minor": 2
}
